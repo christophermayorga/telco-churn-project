{
 "cells": [
  {
   "cell_type": "markdown",
   "metadata": {},
   "source": [
    "# **Telco Churn Report**"
   ]
  },
  {
   "cell_type": "markdown",
   "metadata": {},
   "source": [
    "### **Christopher Mayorga**"
   ]
  },
  {
   "cell_type": "markdown",
   "metadata": {},
   "source": [
    "**June, 2021**"
   ]
  },
  {
   "cell_type": "markdown",
   "metadata": {},
   "source": [
    "### **Why are our customers churning?**"
   ]
  },
  {
   "cell_type": "markdown",
   "metadata": {},
   "source": [
    "Look for any groupings that indicate a customer is more likely to churn."
   ]
  },
  {
   "cell_type": "markdown",
   "metadata": {},
   "source": [
    "### **Executive Summary**"
   ]
  },
  {
   "cell_type": "markdown",
   "metadata": {},
   "source": [
    "**Findings:**\n",
    "- Early analysis showed that rate of churn goes down as tenure increases\n",
    "- Biggest drivers of churn were payment type, contract type, and total charges\n",
    "- Classification model predicts whether a customer will churn with 78% accuracy\n",
    "\n",
    "**Recommendations:**\n",
    "- Offer discounts for automatic payment types and one or two-year contracts\n",
    "- Run advertising campaign promoting new discounts"
   ]
  },
  {
   "cell_type": "code",
   "execution_count": 1,
   "metadata": {},
   "outputs": [],
   "source": [
    "import pandas as pd\n",
    "import numpy as np\n",
    "from scipy import stats\n",
    "\n",
    "# visualizing\n",
    "import matplotlib.pyplot as plt\n",
    "import seaborn as sns\n",
    "%matplotlib inline\n",
    "\n",
    "plt.rc('figure', figsize=(13, 10))\n",
    "plt.rc('font', size=14)\n",
    "\n",
    "# preparing\n",
    "from sklearn.model_selection import train_test_split\n",
    "from sklearn.impute import SimpleImputer\n",
    "\n",
    "# modeling and evaluating\n",
    "from sklearn.linear_model import LogisticRegression\n",
    "from sklearn.tree import DecisionTreeClassifier\n",
    "from sklearn.ensemble import RandomForestClassifier\n",
    "from sklearn.metrics import classification_report, confusion_matrix, precision_score, recall_score, accuracy_score\n",
    "from sklearn.metrics import confusion_matrix\n",
    "\n",
    "# turn off warnings\n",
    "import warnings\n",
    "warnings.filterwarnings(\"ignore\")\n",
    "\n",
    "# acquiring\n",
    "from env import host, user, password, get_db_url"
   ]
  },
  {
   "cell_type": "code",
   "execution_count": 2,
   "metadata": {},
   "outputs": [],
   "source": [
    "# import helper functions\n",
    "from acquire import get_telco_data\n",
    "from prepare import prep_telco_data, prep_telco_data_all"
   ]
  },
  {
   "cell_type": "code",
   "execution_count": 3,
   "metadata": {},
   "outputs": [],
   "source": [
    "telco = get_telco_data()"
   ]
  },
  {
   "cell_type": "code",
   "execution_count": 4,
   "metadata": {},
   "outputs": [
    {
     "name": "stdout",
     "output_type": "stream",
     "text": [
      "(7043, 24)\n",
      "<class 'pandas.core.frame.DataFrame'>\n",
      "RangeIndex: 7043 entries, 0 to 7042\n",
      "Data columns (total 24 columns):\n",
      " #   Column                    Non-Null Count  Dtype  \n",
      "---  ------                    --------------  -----  \n",
      " 0   customer_id               7043 non-null   object \n",
      " 1   gender                    7043 non-null   object \n",
      " 2   senior_citizen            7043 non-null   int64  \n",
      " 3   partner                   7043 non-null   object \n",
      " 4   dependents                7043 non-null   object \n",
      " 5   tenure                    7043 non-null   int64  \n",
      " 6   phone_service             7043 non-null   object \n",
      " 7   multiple_lines            7043 non-null   object \n",
      " 8   internet_service_type_id  7043 non-null   int64  \n",
      " 9   online_security           7043 non-null   object \n",
      " 10  online_backup             7043 non-null   object \n",
      " 11  device_protection         7043 non-null   object \n",
      " 12  tech_support              7043 non-null   object \n",
      " 13  streaming_tv              7043 non-null   object \n",
      " 14  streaming_movies          7043 non-null   object \n",
      " 15  contract_type_id          7043 non-null   int64  \n",
      " 16  paperless_billing         7043 non-null   object \n",
      " 17  payment_type_id           7043 non-null   int64  \n",
      " 18  monthly_charges           7043 non-null   float64\n",
      " 19  total_charges             7043 non-null   object \n",
      " 20  churn                     7043 non-null   object \n",
      " 21  payment_type              7043 non-null   object \n",
      " 22  internet_service_type     7043 non-null   object \n",
      " 23  contract_type             7043 non-null   object \n",
      "dtypes: float64(1), int64(5), object(18)\n",
      "memory usage: 1.3+ MB\n",
      "None\n"
     ]
    }
   ],
   "source": [
    "# Summarize the dataframe\n",
    "print(telco.shape)\n",
    "print(telco.info())"
   ]
  },
  {
   "cell_type": "code",
   "execution_count": 5,
   "metadata": {},
   "outputs": [
    {
     "data": {
      "text/html": [
       "<div>\n",
       "<style scoped>\n",
       "    .dataframe tbody tr th:only-of-type {\n",
       "        vertical-align: middle;\n",
       "    }\n",
       "\n",
       "    .dataframe tbody tr th {\n",
       "        vertical-align: top;\n",
       "    }\n",
       "\n",
       "    .dataframe thead th {\n",
       "        text-align: right;\n",
       "    }\n",
       "</style>\n",
       "<table border=\"1\" class=\"dataframe\">\n",
       "  <thead>\n",
       "    <tr style=\"text-align: right;\">\n",
       "      <th></th>\n",
       "      <th>senior_citizen</th>\n",
       "      <th>tenure</th>\n",
       "      <th>internet_service_type_id</th>\n",
       "      <th>contract_type_id</th>\n",
       "      <th>payment_type_id</th>\n",
       "      <th>monthly_charges</th>\n",
       "    </tr>\n",
       "  </thead>\n",
       "  <tbody>\n",
       "    <tr>\n",
       "      <th>count</th>\n",
       "      <td>7043.000000</td>\n",
       "      <td>7043.000000</td>\n",
       "      <td>7043.000000</td>\n",
       "      <td>7043.000000</td>\n",
       "      <td>7043.000000</td>\n",
       "      <td>7043.000000</td>\n",
       "    </tr>\n",
       "    <tr>\n",
       "      <th>mean</th>\n",
       "      <td>0.162147</td>\n",
       "      <td>32.371149</td>\n",
       "      <td>1.872923</td>\n",
       "      <td>1.690473</td>\n",
       "      <td>2.315633</td>\n",
       "      <td>64.761692</td>\n",
       "    </tr>\n",
       "    <tr>\n",
       "      <th>std</th>\n",
       "      <td>0.368612</td>\n",
       "      <td>24.559481</td>\n",
       "      <td>0.737796</td>\n",
       "      <td>0.833755</td>\n",
       "      <td>1.148907</td>\n",
       "      <td>30.090047</td>\n",
       "    </tr>\n",
       "    <tr>\n",
       "      <th>min</th>\n",
       "      <td>0.000000</td>\n",
       "      <td>0.000000</td>\n",
       "      <td>1.000000</td>\n",
       "      <td>1.000000</td>\n",
       "      <td>1.000000</td>\n",
       "      <td>18.250000</td>\n",
       "    </tr>\n",
       "    <tr>\n",
       "      <th>25%</th>\n",
       "      <td>0.000000</td>\n",
       "      <td>9.000000</td>\n",
       "      <td>1.000000</td>\n",
       "      <td>1.000000</td>\n",
       "      <td>1.000000</td>\n",
       "      <td>35.500000</td>\n",
       "    </tr>\n",
       "    <tr>\n",
       "      <th>50%</th>\n",
       "      <td>0.000000</td>\n",
       "      <td>29.000000</td>\n",
       "      <td>2.000000</td>\n",
       "      <td>1.000000</td>\n",
       "      <td>2.000000</td>\n",
       "      <td>70.350000</td>\n",
       "    </tr>\n",
       "    <tr>\n",
       "      <th>75%</th>\n",
       "      <td>0.000000</td>\n",
       "      <td>55.000000</td>\n",
       "      <td>2.000000</td>\n",
       "      <td>2.000000</td>\n",
       "      <td>3.000000</td>\n",
       "      <td>89.850000</td>\n",
       "    </tr>\n",
       "    <tr>\n",
       "      <th>max</th>\n",
       "      <td>1.000000</td>\n",
       "      <td>72.000000</td>\n",
       "      <td>3.000000</td>\n",
       "      <td>3.000000</td>\n",
       "      <td>4.000000</td>\n",
       "      <td>118.750000</td>\n",
       "    </tr>\n",
       "  </tbody>\n",
       "</table>\n",
       "</div>"
      ],
      "text/plain": [
       "       senior_citizen       tenure  internet_service_type_id  \\\n",
       "count     7043.000000  7043.000000               7043.000000   \n",
       "mean         0.162147    32.371149                  1.872923   \n",
       "std          0.368612    24.559481                  0.737796   \n",
       "min          0.000000     0.000000                  1.000000   \n",
       "25%          0.000000     9.000000                  1.000000   \n",
       "50%          0.000000    29.000000                  2.000000   \n",
       "75%          0.000000    55.000000                  2.000000   \n",
       "max          1.000000    72.000000                  3.000000   \n",
       "\n",
       "       contract_type_id  payment_type_id  monthly_charges  \n",
       "count       7043.000000      7043.000000      7043.000000  \n",
       "mean           1.690473         2.315633        64.761692  \n",
       "std            0.833755         1.148907        30.090047  \n",
       "min            1.000000         1.000000        18.250000  \n",
       "25%            1.000000         1.000000        35.500000  \n",
       "50%            1.000000         2.000000        70.350000  \n",
       "75%            2.000000         3.000000        89.850000  \n",
       "max            3.000000         4.000000       118.750000  "
      ]
     },
     "execution_count": 5,
     "metadata": {},
     "output_type": "execute_result"
    }
   ],
   "source": [
    "# Get summary statistics. This only shows numeric columns.\n",
    "telco.describe()"
   ]
  },
  {
   "cell_type": "code",
   "execution_count": 6,
   "metadata": {},
   "outputs": [
    {
     "data": {
      "text/plain": [
       "No     0.73463\n",
       "Yes    0.26537\n",
       "Name: churn, dtype: float64"
      ]
     },
     "execution_count": 6,
     "metadata": {},
     "output_type": "execute_result"
    }
   ],
   "source": [
    "# What is the overall churn rate?\n",
    "telco.churn.value_counts(normalize=True)"
   ]
  },
  {
   "cell_type": "markdown",
   "metadata": {},
   "source": [
    "# **Prepare Data**"
   ]
  },
  {
   "cell_type": "markdown",
   "metadata": {},
   "source": [
    "**Columns that need to be encoded:**\n",
    "- Gender: create new column \"is_female\" where Female = 1, Male = 0\n",
    "- Service details (online security, online backup, etc.): Change from Yes/no to 1/0\n",
    "- Churn: Change from Yes/no to 1/0\n",
    "- Partner and dependents: Change from Yes/no to 1/0"
   ]
  },
  {
   "cell_type": "code",
   "execution_count": 7,
   "metadata": {},
   "outputs": [
    {
     "data": {
      "text/plain": [
       "customer_id                 0\n",
       "gender                      0\n",
       "senior_citizen              0\n",
       "partner                     0\n",
       "dependents                  0\n",
       "tenure                      0\n",
       "phone_service               0\n",
       "multiple_lines              0\n",
       "internet_service_type_id    0\n",
       "online_security             0\n",
       "online_backup               0\n",
       "device_protection           0\n",
       "tech_support                0\n",
       "streaming_tv                0\n",
       "streaming_movies            0\n",
       "contract_type_id            0\n",
       "paperless_billing           0\n",
       "payment_type_id             0\n",
       "monthly_charges             0\n",
       "total_charges               0\n",
       "churn                       0\n",
       "payment_type                0\n",
       "internet_service_type       0\n",
       "contract_type               0\n",
       "dtype: int64"
      ]
     },
     "execution_count": 7,
     "metadata": {},
     "output_type": "execute_result"
    }
   ],
   "source": [
    "# Check for missing values\n",
    "telco.isna().sum()"
   ]
  },
  {
   "cell_type": "markdown",
   "metadata": {},
   "source": [
    "### **Split our data**"
   ]
  },
  {
   "cell_type": "code",
   "execution_count": 8,
   "metadata": {},
   "outputs": [
    {
     "name": "stdout",
     "output_type": "stream",
     "text": [
      "The shape of the train dataset is: (3943, 33)\n",
      "The shape of the validate dataset is: (1691, 33)\n",
      "The shape of the test dataset is: (1409, 33)\n"
     ]
    }
   ],
   "source": [
    "train, validate, test = prep_telco_data(get_telco_data())\n",
    "\n",
    "print(f'The shape of the train dataset is: {train.shape}')\n",
    "print(f'The shape of the validate dataset is: {validate.shape}')\n",
    "print(f'The shape of the test dataset is: {test.shape}')"
   ]
  },
  {
   "cell_type": "markdown",
   "metadata": {},
   "source": [
    "Train is the largest of the three. This will be the dataset used for explorations and modeling before moving on to validate and test."
   ]
  },
  {
   "cell_type": "code",
   "execution_count": 9,
   "metadata": {},
   "outputs": [
    {
     "data": {
      "text/html": [
       "<div>\n",
       "<style scoped>\n",
       "    .dataframe tbody tr th:only-of-type {\n",
       "        vertical-align: middle;\n",
       "    }\n",
       "\n",
       "    .dataframe tbody tr th {\n",
       "        vertical-align: top;\n",
       "    }\n",
       "\n",
       "    .dataframe thead th {\n",
       "        text-align: right;\n",
       "    }\n",
       "</style>\n",
       "<table border=\"1\" class=\"dataframe\">\n",
       "  <thead>\n",
       "    <tr style=\"text-align: right;\">\n",
       "      <th></th>\n",
       "      <th>customer_id</th>\n",
       "      <th>gender</th>\n",
       "      <th>senior_citizen</th>\n",
       "      <th>partner</th>\n",
       "      <th>dependents</th>\n",
       "      <th>tenure</th>\n",
       "      <th>phone_service</th>\n",
       "      <th>multiple_lines</th>\n",
       "      <th>internet_service_type_id</th>\n",
       "      <th>online_security</th>\n",
       "      <th>...</th>\n",
       "      <th>contract_type</th>\n",
       "      <th>month_to_month</th>\n",
       "      <th>one_year</th>\n",
       "      <th>two_year</th>\n",
       "      <th>dsl_internet</th>\n",
       "      <th>fiber_internet</th>\n",
       "      <th>no_internet</th>\n",
       "      <th>is_female</th>\n",
       "      <th>is_automatic</th>\n",
       "      <th>churned</th>\n",
       "    </tr>\n",
       "  </thead>\n",
       "  <tbody>\n",
       "    <tr>\n",
       "      <th>5707</th>\n",
       "      <td>5605-XNWEN</td>\n",
       "      <td>Male</td>\n",
       "      <td>1</td>\n",
       "      <td>1</td>\n",
       "      <td>0</td>\n",
       "      <td>72</td>\n",
       "      <td>1</td>\n",
       "      <td>1</td>\n",
       "      <td>3</td>\n",
       "      <td>0</td>\n",
       "      <td>...</td>\n",
       "      <td>Two year</td>\n",
       "      <td>0</td>\n",
       "      <td>0</td>\n",
       "      <td>1</td>\n",
       "      <td>0</td>\n",
       "      <td>0</td>\n",
       "      <td>1</td>\n",
       "      <td>0</td>\n",
       "      <td>1</td>\n",
       "      <td>0</td>\n",
       "    </tr>\n",
       "    <tr>\n",
       "      <th>4471</th>\n",
       "      <td>4355-CVPVS</td>\n",
       "      <td>Female</td>\n",
       "      <td>0</td>\n",
       "      <td>1</td>\n",
       "      <td>1</td>\n",
       "      <td>56</td>\n",
       "      <td>1</td>\n",
       "      <td>0</td>\n",
       "      <td>2</td>\n",
       "      <td>0</td>\n",
       "      <td>...</td>\n",
       "      <td>One year</td>\n",
       "      <td>0</td>\n",
       "      <td>1</td>\n",
       "      <td>0</td>\n",
       "      <td>0</td>\n",
       "      <td>1</td>\n",
       "      <td>0</td>\n",
       "      <td>1</td>\n",
       "      <td>1</td>\n",
       "      <td>0</td>\n",
       "    </tr>\n",
       "    <tr>\n",
       "      <th>4994</th>\n",
       "      <td>3915-ODIYG</td>\n",
       "      <td>Male</td>\n",
       "      <td>1</td>\n",
       "      <td>0</td>\n",
       "      <td>0</td>\n",
       "      <td>60</td>\n",
       "      <td>1</td>\n",
       "      <td>1</td>\n",
       "      <td>1</td>\n",
       "      <td>1</td>\n",
       "      <td>...</td>\n",
       "      <td>One year</td>\n",
       "      <td>0</td>\n",
       "      <td>1</td>\n",
       "      <td>0</td>\n",
       "      <td>1</td>\n",
       "      <td>0</td>\n",
       "      <td>0</td>\n",
       "      <td>0</td>\n",
       "      <td>0</td>\n",
       "      <td>0</td>\n",
       "    </tr>\n",
       "    <tr>\n",
       "      <th>3458</th>\n",
       "      <td>6575-SUVOI</td>\n",
       "      <td>Female</td>\n",
       "      <td>1</td>\n",
       "      <td>1</td>\n",
       "      <td>0</td>\n",
       "      <td>25</td>\n",
       "      <td>1</td>\n",
       "      <td>1</td>\n",
       "      <td>1</td>\n",
       "      <td>1</td>\n",
       "      <td>...</td>\n",
       "      <td>Month-to-month</td>\n",
       "      <td>1</td>\n",
       "      <td>0</td>\n",
       "      <td>0</td>\n",
       "      <td>1</td>\n",
       "      <td>0</td>\n",
       "      <td>0</td>\n",
       "      <td>1</td>\n",
       "      <td>1</td>\n",
       "      <td>0</td>\n",
       "    </tr>\n",
       "    <tr>\n",
       "      <th>3818</th>\n",
       "      <td>9504-DSHWM</td>\n",
       "      <td>Male</td>\n",
       "      <td>0</td>\n",
       "      <td>0</td>\n",
       "      <td>0</td>\n",
       "      <td>20</td>\n",
       "      <td>1</td>\n",
       "      <td>1</td>\n",
       "      <td>1</td>\n",
       "      <td>1</td>\n",
       "      <td>...</td>\n",
       "      <td>Month-to-month</td>\n",
       "      <td>1</td>\n",
       "      <td>0</td>\n",
       "      <td>0</td>\n",
       "      <td>1</td>\n",
       "      <td>0</td>\n",
       "      <td>0</td>\n",
       "      <td>0</td>\n",
       "      <td>1</td>\n",
       "      <td>0</td>\n",
       "    </tr>\n",
       "  </tbody>\n",
       "</table>\n",
       "<p>5 rows × 33 columns</p>\n",
       "</div>"
      ],
      "text/plain": [
       "     customer_id  gender  senior_citizen  partner  dependents  tenure  \\\n",
       "5707  5605-XNWEN    Male               1        1           0      72   \n",
       "4471  4355-CVPVS  Female               0        1           1      56   \n",
       "4994  3915-ODIYG    Male               1        0           0      60   \n",
       "3458  6575-SUVOI  Female               1        1           0      25   \n",
       "3818  9504-DSHWM    Male               0        0           0      20   \n",
       "\n",
       "      phone_service  multiple_lines  internet_service_type_id  \\\n",
       "5707              1               1                         3   \n",
       "4471              1               0                         2   \n",
       "4994              1               1                         1   \n",
       "3458              1               1                         1   \n",
       "3818              1               1                         1   \n",
       "\n",
       "      online_security  ...   contract_type  month_to_month  one_year  \\\n",
       "5707                0  ...        Two year               0         0   \n",
       "4471                0  ...        One year               0         1   \n",
       "4994                1  ...        One year               0         1   \n",
       "3458                1  ...  Month-to-month               1         0   \n",
       "3818                1  ...  Month-to-month               1         0   \n",
       "\n",
       "      two_year  dsl_internet  fiber_internet  no_internet  is_female  \\\n",
       "5707         1             0               0            1          0   \n",
       "4471         0             0               1            0          1   \n",
       "4994         0             1               0            0          0   \n",
       "3458         0             1               0            0          1   \n",
       "3818         0             1               0            0          0   \n",
       "\n",
       "      is_automatic  churned  \n",
       "5707             1        0  \n",
       "4471             1        0  \n",
       "4994             0        0  \n",
       "3458             1        0  \n",
       "3818             1        0  \n",
       "\n",
       "[5 rows x 33 columns]"
      ]
     },
     "execution_count": 9,
     "metadata": {},
     "output_type": "execute_result"
    }
   ],
   "source": [
    "# Take a look at train dataframe.\n",
    "\n",
    "train.head()"
   ]
  },
  {
   "cell_type": "code",
   "execution_count": 10,
   "metadata": {},
   "outputs": [
    {
     "name": "stdout",
     "output_type": "stream",
     "text": [
      "<class 'pandas.core.frame.DataFrame'>\n",
      "Int64Index: 3943 entries, 5707 to 6864\n",
      "Data columns (total 33 columns):\n",
      " #   Column                    Non-Null Count  Dtype  \n",
      "---  ------                    --------------  -----  \n",
      " 0   customer_id               3943 non-null   object \n",
      " 1   gender                    3943 non-null   object \n",
      " 2   senior_citizen            3943 non-null   int64  \n",
      " 3   partner                   3943 non-null   int64  \n",
      " 4   dependents                3943 non-null   int64  \n",
      " 5   tenure                    3943 non-null   int64  \n",
      " 6   phone_service             3943 non-null   int64  \n",
      " 7   multiple_lines            3943 non-null   int64  \n",
      " 8   internet_service_type_id  3943 non-null   int64  \n",
      " 9   online_security           3943 non-null   int64  \n",
      " 10  online_backup             3943 non-null   int64  \n",
      " 11  device_protection         3943 non-null   int64  \n",
      " 12  tech_support              3943 non-null   int64  \n",
      " 13  streaming_tv              3943 non-null   int64  \n",
      " 14  streaming_movies          3943 non-null   int64  \n",
      " 15  contract_type_id          3943 non-null   int64  \n",
      " 16  paperless_billing         3943 non-null   int64  \n",
      " 17  payment_type_id           3943 non-null   int64  \n",
      " 18  monthly_charges           3943 non-null   float64\n",
      " 19  total_charges             3943 non-null   float64\n",
      " 20  churn                     3943 non-null   object \n",
      " 21  payment_type              3943 non-null   object \n",
      " 22  internet_service_type     3943 non-null   object \n",
      " 23  contract_type             3943 non-null   object \n",
      " 24  month_to_month            3943 non-null   uint8  \n",
      " 25  one_year                  3943 non-null   uint8  \n",
      " 26  two_year                  3943 non-null   uint8  \n",
      " 27  dsl_internet              3943 non-null   uint8  \n",
      " 28  fiber_internet            3943 non-null   uint8  \n",
      " 29  no_internet               3943 non-null   uint8  \n",
      " 30  is_female                 3943 non-null   int64  \n",
      " 31  is_automatic              3943 non-null   int64  \n",
      " 32  churned                   3943 non-null   int64  \n",
      "dtypes: float64(2), int64(19), object(6), uint8(6)\n",
      "memory usage: 885.6+ KB\n"
     ]
    }
   ],
   "source": [
    "train.info()"
   ]
  },
  {
   "cell_type": "markdown",
   "metadata": {},
   "source": [
    "# **Explore Data**"
   ]
  },
  {
   "cell_type": "markdown",
   "metadata": {},
   "source": [
    "**Goals:**\n",
    "- Determine drivers of churn\n",
    "- Visualize data\n",
    "- Run statistical tests\n",
    "- Set the baseline model"
   ]
  },
  {
   "cell_type": "markdown",
   "metadata": {},
   "source": [
    "**We are only using the `train` dataset for this stage**"
   ]
  },
  {
   "cell_type": "markdown",
   "metadata": {},
   "source": [
    "## **Step 1: Create a baseline against which we can compare our models.**"
   ]
  },
  {
   "cell_type": "markdown",
   "metadata": {},
   "source": [
    "To do this, we'll take the most common observations to the question: Did a customer churn?"
   ]
  },
  {
   "cell_type": "code",
   "execution_count": 11,
   "metadata": {},
   "outputs": [
    {
     "data": {
      "text/plain": [
       "No     0.73472\n",
       "Yes    0.26528\n",
       "Name: churn, dtype: float64"
      ]
     },
     "execution_count": 11,
     "metadata": {},
     "output_type": "execute_result"
    }
   ],
   "source": [
    "# Overall churn rate\n",
    "train.churn.value_counts(normalize=True)"
   ]
  },
  {
   "cell_type": "markdown",
   "metadata": {},
   "source": [
    "The most common observation is no, meaning a customer didn't churn. When testing our models, we should aim to get an accuracy higher than 73%."
   ]
  },
  {
   "cell_type": "markdown",
   "metadata": {},
   "source": [
    "## **Step 2: Compare rates of churn across tenure length**"
   ]
  },
  {
   "cell_type": "code",
   "execution_count": 12,
   "metadata": {},
   "outputs": [],
   "source": [
    "# Create a column 'tenure_in_years' in a separate dataframe\n",
    "explore_df = train\n",
    "explore_df['tenure_in_years'] = round(explore_df.tenure / 12)"
   ]
  },
  {
   "cell_type": "code",
   "execution_count": 13,
   "metadata": {},
   "outputs": [
    {
     "data": {
      "text/plain": [
       "No     0.548847\n",
       "Yes    0.451153\n",
       "Name: churn, dtype: float64"
      ]
     },
     "execution_count": 13,
     "metadata": {},
     "output_type": "execute_result"
    }
   ],
   "source": [
    "# Rate of churn for those who have a tenure of 1 year or less:\n",
    "mask1 = explore_df.tenure_in_years <= 1\n",
    "one_year = explore_df[mask1]\n",
    "one_year.churn.value_counts(normalize=True)"
   ]
  },
  {
   "cell_type": "code",
   "execution_count": 14,
   "metadata": {},
   "outputs": [
    {
     "data": {
      "text/plain": [
       "No     0.773451\n",
       "Yes    0.226549\n",
       "Name: churn, dtype: float64"
      ]
     },
     "execution_count": 14,
     "metadata": {},
     "output_type": "execute_result"
    }
   ],
   "source": [
    "# Rate of churn for those who have a tenure of 2 years:\n",
    "mask2 = (explore_df.tenure_in_years > 1) & (explore_df.tenure_in_years <= 2)\n",
    "two_years = explore_df[mask2]\n",
    "two_years.churn.value_counts(normalize=True)"
   ]
  },
  {
   "cell_type": "code",
   "execution_count": 15,
   "metadata": {},
   "outputs": [
    {
     "data": {
      "text/plain": [
       "No     0.770408\n",
       "Yes    0.229592\n",
       "Name: churn, dtype: float64"
      ]
     },
     "execution_count": 15,
     "metadata": {},
     "output_type": "execute_result"
    }
   ],
   "source": [
    "# Rate of churn for those who have a tenure of 3 years:\n",
    "mask3 = (explore_df.tenure_in_years > 2) & (explore_df.tenure_in_years <= 3)\n",
    "three_years = explore_df[mask3]\n",
    "three_years.churn.value_counts(normalize=True)"
   ]
  },
  {
   "cell_type": "code",
   "execution_count": 16,
   "metadata": {},
   "outputs": [
    {
     "data": {
      "text/plain": [
       "No     0.892196\n",
       "Yes    0.107804\n",
       "Name: churn, dtype: float64"
      ]
     },
     "execution_count": 16,
     "metadata": {},
     "output_type": "execute_result"
    }
   ],
   "source": [
    "# Rate of churn for those who have a tenure of greater than 3 years:\n",
    "mask4 = (explore_df.tenure_in_years > 3)\n",
    "more_years = explore_df[mask4]\n",
    "more_years.churn.value_counts(normalize=True)"
   ]
  },
  {
   "cell_type": "markdown",
   "metadata": {},
   "source": [
    "**Takeaways:**\n",
    "- As tenure increases, churn decreases\n",
    "- Highest amount of churn ('Yes' value counts) is in 1 year or less"
   ]
  },
  {
   "cell_type": "markdown",
   "metadata": {},
   "source": [
    "## **Step 3: Visualize data**"
   ]
  },
  {
   "cell_type": "markdown",
   "metadata": {},
   "source": [
    "Does monthly charges indicate whether or not someone churns? \n",
    "- Maybe. It seems like those who churned have higher monthly charges."
   ]
  },
  {
   "cell_type": "code",
   "execution_count": 17,
   "metadata": {},
   "outputs": [
    {
     "data": {
      "image/png": "[encoded data removed]",
      "text/plain": [
       "<Figure size 936x720 with 1 Axes>"
      ]
     },
     "metadata": {
      "needs_background": "light"
     },
     "output_type": "display_data"
    }
   ],
   "source": [
    "sns.barplot(x = 'churn', y = 'monthly_charges', data = train)\n",
    "plt.show()"
   ]
  },
  {
   "cell_type": "markdown",
   "metadata": {},
   "source": [
    "Does automatic payment type indicate whether or not someone churns? \n",
    "- Probably. It seems like those who churned have a lower chance of using an automatic payment type."
   ]
  },
  {
   "cell_type": "code",
   "execution_count": 18,
   "metadata": {},
   "outputs": [
    {
     "data": {
      "image/png": "[encoded data removed]",
      "text/plain": [
       "<Figure size 936x720 with 1 Axes>"
      ]
     },
     "metadata": {
      "needs_background": "light"
     },
     "output_type": "display_data"
    }
   ],
   "source": [
    "sns.barplot(x = 'churn', y = 'is_automatic', data = train)\n",
    "plt.show()"
   ]
  },
  {
   "cell_type": "markdown",
   "metadata": {},
   "source": [
    "What if we add another dimension--contract type?\n",
    "- There seems to be quite a difference across contract types, indicating this might be a variable we'd want to test."
   ]
  },
  {
   "cell_type": "code",
   "execution_count": 19,
   "metadata": {},
   "outputs": [
    {
     "data": {
      "image/png": "[encoded data removed]",
      "text/plain": [
       "<Figure size 936x720 with 1 Axes>"
      ]
     },
     "metadata": {
      "needs_background": "light"
     },
     "output_type": "display_data"
    }
   ],
   "source": [
    "sns.barplot(x = 'contract_type', y = 'monthly_charges', hue = 'churn', data = train)\n",
    "plt.show()"
   ]
  },
  {
   "cell_type": "code",
   "execution_count": 20,
   "metadata": {},
   "outputs": [
    {
     "data": {
      "image/png": "[encoded data removed]",
      "text/plain": [
       "<Figure size 936x720 with 1 Axes>"
      ]
     },
     "metadata": {
      "needs_background": "light"
     },
     "output_type": "display_data"
    }
   ],
   "source": [
    "sns.barplot(x = 'contract_type', y = 'is_automatic', hue = 'churn', data = train)\n",
    "plt.show()"
   ]
  },
  {
   "cell_type": "markdown",
   "metadata": {},
   "source": [
    "When we divide the data by automatic payment type, it seems like there are many more who churned among those who do not have an automatic payment type."
   ]
  },
  {
   "cell_type": "code",
   "execution_count": 21,
   "metadata": {},
   "outputs": [
    {
     "data": {
      "image/png": "[encoded data removed]",
      "text/plain": [
       "<Figure size 936x720 with 1 Axes>"
      ]
     },
     "metadata": {
      "needs_background": "light"
     },
     "output_type": "display_data"
    }
   ],
   "source": [
    "sns.swarmplot(x = 'is_automatic', y = 'monthly_charges', data = train, hue = 'churn')\n",
    "plt.xlabel(\"Automatic Payment Use\")\n",
    "plt.ylabel(\"Monthly Charges\")\n",
    "plt.show()"
   ]
  },
  {
   "cell_type": "markdown",
   "metadata": {},
   "source": [
    "**Takeaway:**\n",
    "- Run a statistical test to see if automatic payment type is a driver of churn."
   ]
  },
  {
   "cell_type": "markdown",
   "metadata": {},
   "source": [
    "What if we make a heatmap showing correlation between variables and whether or not they churned?"
   ]
  },
  {
   "cell_type": "code",
   "execution_count": 22,
   "metadata": {},
   "outputs": [
    {
     "data": {
      "image/png": "[encoded data removed]",
      "text/plain": [
       "<Figure size 936x720 with 2 Axes>"
      ]
     },
     "metadata": {
      "needs_background": "light"
     },
     "output_type": "display_data"
    }
   ],
   "source": [
    "heatmap_columns = ['tenure', 'phone_service', 'monthly_charges', 'total_charges', 'month_to_month', 'one_year', \n",
    "                   'two_year', 'is_automatic', 'churned']\n",
    "\n",
    "corr_matrix = explore_df[heatmap_columns].corr()\n",
    "sns.heatmap(corr_matrix, cmap='twilight_shifted', annot=True, linewidth=0.5, mask= np.triu(corr_matrix))\n",
    "plt.show()"
   ]
  },
  {
   "cell_type": "markdown",
   "metadata": {},
   "source": [
    "**Takeaway:**\n",
    "- Month-to-month had the highest correlation with churn -> Run a statistical test for contract type"
   ]
  },
  {
   "cell_type": "markdown",
   "metadata": {},
   "source": [
    "## **Step 4: Hypothesis testing**"
   ]
  },
  {
   "cell_type": "markdown",
   "metadata": {},
   "source": [
    "**Hypothesis 1:**\n",
    "- $H_0$: There is no relationship between contract type and customer churn.\n",
    "- $H_a$: There is a relationship between contract type and customer churn."
   ]
  },
  {
   "cell_type": "code",
   "execution_count": 23,
   "metadata": {},
   "outputs": [],
   "source": [
    "# Set confidence level and alpha\n",
    "confidence_level = 0.95\n",
    "alpha = 0.05"
   ]
  },
  {
   "cell_type": "code",
   "execution_count": 24,
   "metadata": {},
   "outputs": [
    {
     "data": {
      "text/html": [
       "<div>\n",
       "<style scoped>\n",
       "    .dataframe tbody tr th:only-of-type {\n",
       "        vertical-align: middle;\n",
       "    }\n",
       "\n",
       "    .dataframe tbody tr th {\n",
       "        vertical-align: top;\n",
       "    }\n",
       "\n",
       "    .dataframe thead th {\n",
       "        text-align: right;\n",
       "    }\n",
       "</style>\n",
       "<table border=\"1\" class=\"dataframe\">\n",
       "  <thead>\n",
       "    <tr style=\"text-align: right;\">\n",
       "      <th>contract_type</th>\n",
       "      <th>Month-to-month</th>\n",
       "      <th>One year</th>\n",
       "      <th>Two year</th>\n",
       "    </tr>\n",
       "    <tr>\n",
       "      <th>churn</th>\n",
       "      <th></th>\n",
       "      <th></th>\n",
       "      <th></th>\n",
       "    </tr>\n",
       "  </thead>\n",
       "  <tbody>\n",
       "    <tr>\n",
       "      <th>No</th>\n",
       "      <td>1269</td>\n",
       "      <td>730</td>\n",
       "      <td>898</td>\n",
       "    </tr>\n",
       "    <tr>\n",
       "      <th>Yes</th>\n",
       "      <td>919</td>\n",
       "      <td>103</td>\n",
       "      <td>24</td>\n",
       "    </tr>\n",
       "  </tbody>\n",
       "</table>\n",
       "</div>"
      ],
      "text/plain": [
       "contract_type  Month-to-month  One year  Two year\n",
       "churn                                            \n",
       "No                       1269       730       898\n",
       "Yes                       919       103        24"
      ]
     },
     "execution_count": 24,
     "metadata": {},
     "output_type": "execute_result"
    }
   ],
   "source": [
    "# Create crosstab\n",
    "crosstab1 = pd.crosstab(explore_df.churn, explore_df.contract_type)\n",
    "crosstab1"
   ]
  },
  {
   "cell_type": "code",
   "execution_count": 25,
   "metadata": {},
   "outputs": [
    {
     "name": "stdout",
     "output_type": "stream",
     "text": [
      "p-value is: 1.655e-136\n",
      "chi2 value is: 625.3\n",
      "Our p-value is less than our alpha, thus the null hypothesis is rejected.\n"
     ]
    }
   ],
   "source": [
    "# Two categorical variables --> chi^2 test\n",
    "\n",
    "chi2, p, degf, expected = stats.chi2_contingency(crosstab1)\n",
    "\n",
    "print(f'p-value is: {p:.4}')\n",
    "print(f'chi2 value is: {chi2:.4}')\n",
    "\n",
    "if p < alpha:\n",
    "    print(\"Our p-value is less than our alpha, thus the null hypothesis is rejected.\")\n",
    "else:\n",
    "    print(\"Our p-value is greater than our alpha, thus we fail to reject the null hypothesis \")"
   ]
  },
  {
   "cell_type": "markdown",
   "metadata": {},
   "source": [
    "**Hypothesis Test 1 Result**\n",
    "- We rejected our null hypothesis, indicating there is some relationship between contract type and churn."
   ]
  },
  {
   "cell_type": "markdown",
   "metadata": {},
   "source": [
    "**Hypothesis 2:**\n",
    "- $H_0$: There is no relationship between automatic payment type and customer churn.\n",
    "- $H_a$: There is a relationship between automatic payment type and customer churn."
   ]
  },
  {
   "cell_type": "code",
   "execution_count": 26,
   "metadata": {},
   "outputs": [],
   "source": [
    "# Set confidence level and alpha\n",
    "confidence_level = 0.95\n",
    "alpha = 0.05"
   ]
  },
  {
   "cell_type": "code",
   "execution_count": 27,
   "metadata": {},
   "outputs": [
    {
     "data": {
      "text/html": [
       "<div>\n",
       "<style scoped>\n",
       "    .dataframe tbody tr th:only-of-type {\n",
       "        vertical-align: middle;\n",
       "    }\n",
       "\n",
       "    .dataframe tbody tr th {\n",
       "        vertical-align: top;\n",
       "    }\n",
       "\n",
       "    .dataframe thead th {\n",
       "        text-align: right;\n",
       "    }\n",
       "</style>\n",
       "<table border=\"1\" class=\"dataframe\">\n",
       "  <thead>\n",
       "    <tr style=\"text-align: right;\">\n",
       "      <th>is_automatic</th>\n",
       "      <th>0</th>\n",
       "      <th>1</th>\n",
       "    </tr>\n",
       "    <tr>\n",
       "      <th>churn</th>\n",
       "      <th></th>\n",
       "      <th></th>\n",
       "    </tr>\n",
       "  </thead>\n",
       "  <tbody>\n",
       "    <tr>\n",
       "      <th>No</th>\n",
       "      <td>1454</td>\n",
       "      <td>1443</td>\n",
       "    </tr>\n",
       "    <tr>\n",
       "      <th>Yes</th>\n",
       "      <td>773</td>\n",
       "      <td>273</td>\n",
       "    </tr>\n",
       "  </tbody>\n",
       "</table>\n",
       "</div>"
      ],
      "text/plain": [
       "is_automatic     0     1\n",
       "churn                   \n",
       "No            1454  1443\n",
       "Yes            773   273"
      ]
     },
     "execution_count": 27,
     "metadata": {},
     "output_type": "execute_result"
    }
   ],
   "source": [
    "# Create crosstab\n",
    "crosstab2 = pd.crosstab(explore_df.churn, explore_df.is_automatic)\n",
    "crosstab2"
   ]
  },
  {
   "cell_type": "code",
   "execution_count": 28,
   "metadata": {},
   "outputs": [
    {
     "name": "stdout",
     "output_type": "stream",
     "text": [
      "p-value is: 6.579e-40\n",
      "chi2 value is: 174.8\n",
      "Our p-value is less than our alpha, thus the null hypothesis is rejected.\n"
     ]
    }
   ],
   "source": [
    "# Two categorical variables --> chi^2 test\n",
    "\n",
    "chi2, p, degf, expected = stats.chi2_contingency(crosstab2)\n",
    "\n",
    "print(f'p-value is: {p:.4}')\n",
    "print(f'chi2 value is: {chi2:.4}')\n",
    "\n",
    "if p < alpha:\n",
    "    print(\"Our p-value is less than our alpha, thus the null hypothesis is rejected.\")\n",
    "else:\n",
    "    print(\"Our p-value is greater than our alpha, thus we fail to reject the null hypothesis \")"
   ]
  },
  {
   "cell_type": "markdown",
   "metadata": {},
   "source": [
    "**Hypothesis Test 2 Result:**\n",
    "- We rejected our null hypothesis, indicating there is some relationship between automatic payment type and churn."
   ]
  },
  {
   "cell_type": "markdown",
   "metadata": {},
   "source": [
    "## **Step 5: Modeling**"
   ]
  },
  {
   "cell_type": "markdown",
   "metadata": {},
   "source": [
    "We will use logistic regression, decision tree, and random forest models."
   ]
  },
  {
   "cell_type": "markdown",
   "metadata": {},
   "source": [
    "Recall that our baseline stands at 73%."
   ]
  },
  {
   "cell_type": "markdown",
   "metadata": {},
   "source": [
    "**First we are defining our features (X-variable) and target (churn). Features were derived from visualizations and statistical testing.**"
   ]
  },
  {
   "cell_type": "code",
   "execution_count": 29,
   "metadata": {},
   "outputs": [],
   "source": [
    "X_cols = ['is_automatic', 'month_to_month', 'one_year', 'two_year', 'monthly_charges', 'total_charges']\n",
    "y_col = 'churned'\n",
    "\n",
    "X_train, y_train = train[X_cols], train[y_col]\n",
    "X_validate, y_validate = validate[X_cols], validate[y_col]\n",
    "X_test, y_test = test[X_cols], test[y_col]"
   ]
  },
  {
   "cell_type": "markdown",
   "metadata": {},
   "source": [
    "## Train"
   ]
  },
  {
   "cell_type": "markdown",
   "metadata": {},
   "source": [
    "### Model 1: Logistic Regression"
   ]
  },
  {
   "cell_type": "code",
   "execution_count": 30,
   "metadata": {},
   "outputs": [
    {
     "name": "stdout",
     "output_type": "stream",
     "text": [
      "Coefficient: \n",
      " [[-3.70970579e-01  1.78421421e-01 -7.47182062e-01 -1.75697263e+00\n",
      "   3.64956082e-02 -3.78711048e-04]]\n",
      "Intercept: \n",
      " [-2.38076041]\n",
      "Accuracy score: 79.13%\n"
     ]
    }
   ],
   "source": [
    "# Create the model\n",
    "logit = LogisticRegression(C = 1.0, random_state=123)\n",
    "\n",
    "# Fit the model\n",
    "logit.fit(X_train, y_train)\n",
    "\n",
    "# Print out coefficients and intercepts\n",
    "print('Coefficient: \\n', logit.coef_)\n",
    "print('Intercept: \\n', logit.intercept_)\n",
    "\n",
    "# Use the model to create predictions\n",
    "y_pred1 = logit.predict(X_train)\n",
    "\n",
    "# Probability of churning\n",
    "y_pred_prob1 = logit.predict_proba(X_train)\n",
    "\n",
    "print(f'Accuracy score: {logit.score(X_train, y_train):.2%}')"
   ]
  },
  {
   "cell_type": "code",
   "execution_count": 31,
   "metadata": {},
   "outputs": [
    {
     "data": {
      "text/html": [
       "<div>\n",
       "<style scoped>\n",
       "    .dataframe tbody tr th:only-of-type {\n",
       "        vertical-align: middle;\n",
       "    }\n",
       "\n",
       "    .dataframe tbody tr th {\n",
       "        vertical-align: top;\n",
       "    }\n",
       "\n",
       "    .dataframe thead th {\n",
       "        text-align: right;\n",
       "    }\n",
       "</style>\n",
       "<table border=\"1\" class=\"dataframe\">\n",
       "  <thead>\n",
       "    <tr style=\"text-align: right;\">\n",
       "      <th></th>\n",
       "      <th>0</th>\n",
       "      <th>1</th>\n",
       "      <th>accuracy</th>\n",
       "      <th>macro avg</th>\n",
       "      <th>weighted avg</th>\n",
       "    </tr>\n",
       "  </thead>\n",
       "  <tbody>\n",
       "    <tr>\n",
       "      <th>precision</th>\n",
       "      <td>0.830465</td>\n",
       "      <td>0.638509</td>\n",
       "      <td>0.791276</td>\n",
       "      <td>0.734487</td>\n",
       "      <td>0.779543</td>\n",
       "    </tr>\n",
       "    <tr>\n",
       "      <th>recall</th>\n",
       "      <td>0.899551</td>\n",
       "      <td>0.491396</td>\n",
       "      <td>0.791276</td>\n",
       "      <td>0.695474</td>\n",
       "      <td>0.791276</td>\n",
       "    </tr>\n",
       "    <tr>\n",
       "      <th>f1-score</th>\n",
       "      <td>0.863629</td>\n",
       "      <td>0.555375</td>\n",
       "      <td>0.791276</td>\n",
       "      <td>0.709502</td>\n",
       "      <td>0.781855</td>\n",
       "    </tr>\n",
       "    <tr>\n",
       "      <th>support</th>\n",
       "      <td>2897.000000</td>\n",
       "      <td>1046.000000</td>\n",
       "      <td>0.791276</td>\n",
       "      <td>3943.000000</td>\n",
       "      <td>3943.000000</td>\n",
       "    </tr>\n",
       "  </tbody>\n",
       "</table>\n",
       "</div>"
      ],
      "text/plain": [
       "                     0            1  accuracy    macro avg  weighted avg\n",
       "precision     0.830465     0.638509  0.791276     0.734487      0.779543\n",
       "recall        0.899551     0.491396  0.791276     0.695474      0.791276\n",
       "f1-score      0.863629     0.555375  0.791276     0.709502      0.781855\n",
       "support    2897.000000  1046.000000  0.791276  3943.000000   3943.000000"
      ]
     },
     "execution_count": 31,
     "metadata": {},
     "output_type": "execute_result"
    }
   ],
   "source": [
    "cr = pd.DataFrame(classification_report(train.churned, y_pred1, output_dict=True))\n",
    "cr"
   ]
  },
  {
   "cell_type": "markdown",
   "metadata": {},
   "source": [
    "**Takeaways:**\n",
    "- This model performed better than the baseline (73%), with an accuracy of 79%\n",
    "- Based on the coefficients, one_year had the highest (negative) weight, followed by is_automatic and total_charges"
   ]
  },
  {
   "cell_type": "markdown",
   "metadata": {},
   "source": [
    "### Model 2: Decision Tree"
   ]
  },
  {
   "cell_type": "code",
   "execution_count": 32,
   "metadata": {},
   "outputs": [
    {
     "name": "stdout",
     "output_type": "stream",
     "text": [
      "Accuracy score: 80.27%\n"
     ]
    }
   ],
   "source": [
    "# Create the model\n",
    "dt = DecisionTreeClassifier(max_depth=5, random_state=123)\n",
    "\n",
    "# Fit the model\n",
    "dt.fit(X_train, y_train)\n",
    "\n",
    "# Use the model to create predictions\n",
    "y_pred2 = dt.predict(X_train)\n",
    "\n",
    "# Probability of churning\n",
    "y_pred_prob2 = dt.predict_proba(X_train)\n",
    "\n",
    "print(f'Accuracy score: {dt.score(X_train, y_train):.2%}')"
   ]
  },
  {
   "cell_type": "code",
   "execution_count": 33,
   "metadata": {},
   "outputs": [
    {
     "data": {
      "text/html": [
       "<div>\n",
       "<style scoped>\n",
       "    .dataframe tbody tr th:only-of-type {\n",
       "        vertical-align: middle;\n",
       "    }\n",
       "\n",
       "    .dataframe tbody tr th {\n",
       "        vertical-align: top;\n",
       "    }\n",
       "\n",
       "    .dataframe thead th {\n",
       "        text-align: right;\n",
       "    }\n",
       "</style>\n",
       "<table border=\"1\" class=\"dataframe\">\n",
       "  <thead>\n",
       "    <tr style=\"text-align: right;\">\n",
       "      <th></th>\n",
       "      <th>0</th>\n",
       "      <th>1</th>\n",
       "      <th>accuracy</th>\n",
       "      <th>macro avg</th>\n",
       "      <th>weighted avg</th>\n",
       "    </tr>\n",
       "  </thead>\n",
       "  <tbody>\n",
       "    <tr>\n",
       "      <th>precision</th>\n",
       "      <td>0.844329</td>\n",
       "      <td>0.654734</td>\n",
       "      <td>0.802688</td>\n",
       "      <td>0.749532</td>\n",
       "      <td>0.794033</td>\n",
       "    </tr>\n",
       "    <tr>\n",
       "      <th>recall</th>\n",
       "      <td>0.896790</td>\n",
       "      <td>0.542065</td>\n",
       "      <td>0.802688</td>\n",
       "      <td>0.719427</td>\n",
       "      <td>0.802688</td>\n",
       "    </tr>\n",
       "    <tr>\n",
       "      <th>f1-score</th>\n",
       "      <td>0.869769</td>\n",
       "      <td>0.593096</td>\n",
       "      <td>0.802688</td>\n",
       "      <td>0.731433</td>\n",
       "      <td>0.796373</td>\n",
       "    </tr>\n",
       "    <tr>\n",
       "      <th>support</th>\n",
       "      <td>2897.000000</td>\n",
       "      <td>1046.000000</td>\n",
       "      <td>0.802688</td>\n",
       "      <td>3943.000000</td>\n",
       "      <td>3943.000000</td>\n",
       "    </tr>\n",
       "  </tbody>\n",
       "</table>\n",
       "</div>"
      ],
      "text/plain": [
       "                     0            1  accuracy    macro avg  weighted avg\n",
       "precision     0.844329     0.654734  0.802688     0.749532      0.794033\n",
       "recall        0.896790     0.542065  0.802688     0.719427      0.802688\n",
       "f1-score      0.869769     0.593096  0.802688     0.731433      0.796373\n",
       "support    2897.000000  1046.000000  0.802688  3943.000000   3943.000000"
      ]
     },
     "execution_count": 33,
     "metadata": {},
     "output_type": "execute_result"
    }
   ],
   "source": [
    "cr = pd.DataFrame(classification_report(train.churned, y_pred2, output_dict=True))\n",
    "cr"
   ]
  },
  {
   "cell_type": "markdown",
   "metadata": {},
   "source": [
    "**Takeaways:**\n",
    "- Accuracy is slightly higher than logistic regression model\n",
    "- Recall is slightly higher"
   ]
  },
  {
   "cell_type": "markdown",
   "metadata": {},
   "source": [
    "### Model 3: Random Forest"
   ]
  },
  {
   "cell_type": "code",
   "execution_count": 34,
   "metadata": {},
   "outputs": [
    {
     "name": "stdout",
     "output_type": "stream",
     "text": [
      "Accuracy score: 84.10%\n"
     ]
    }
   ],
   "source": [
    "# Create the model\n",
    "rf = RandomForestClassifier(bootstrap=True,\n",
    "                            min_samples_leaf=10,\n",
    "                            n_estimators=100,\n",
    "                            max_depth=20, \n",
    "                            random_state=123)\n",
    "\n",
    "# Fit the model\n",
    "rf.fit(X_train, y_train)\n",
    "\n",
    "# Use the model to create predictions\n",
    "y_pred3 = rf.predict(X_train)\n",
    "\n",
    "# Probability of churning\n",
    "y_pred_prob3 = rf.predict_proba(X_train)\n",
    "\n",
    "print(f'Accuracy score: {rf.score(X_train, y_train):.2%}')"
   ]
  },
  {
   "cell_type": "code",
   "execution_count": 35,
   "metadata": {},
   "outputs": [
    {
     "data": {
      "text/html": [
       "<div>\n",
       "<style scoped>\n",
       "    .dataframe tbody tr th:only-of-type {\n",
       "        vertical-align: middle;\n",
       "    }\n",
       "\n",
       "    .dataframe tbody tr th {\n",
       "        vertical-align: top;\n",
       "    }\n",
       "\n",
       "    .dataframe thead th {\n",
       "        text-align: right;\n",
       "    }\n",
       "</style>\n",
       "<table border=\"1\" class=\"dataframe\">\n",
       "  <thead>\n",
       "    <tr style=\"text-align: right;\">\n",
       "      <th></th>\n",
       "      <th>0</th>\n",
       "      <th>1</th>\n",
       "      <th>accuracy</th>\n",
       "      <th>macro avg</th>\n",
       "      <th>weighted avg</th>\n",
       "    </tr>\n",
       "  </thead>\n",
       "  <tbody>\n",
       "    <tr>\n",
       "      <th>precision</th>\n",
       "      <td>0.861926</td>\n",
       "      <td>0.759603</td>\n",
       "      <td>0.840984</td>\n",
       "      <td>0.810765</td>\n",
       "      <td>0.834782</td>\n",
       "    </tr>\n",
       "    <tr>\n",
       "      <th>recall</th>\n",
       "      <td>0.933034</td>\n",
       "      <td>0.586042</td>\n",
       "      <td>0.840984</td>\n",
       "      <td>0.759538</td>\n",
       "      <td>0.840984</td>\n",
       "    </tr>\n",
       "    <tr>\n",
       "      <th>f1-score</th>\n",
       "      <td>0.896072</td>\n",
       "      <td>0.661630</td>\n",
       "      <td>0.840984</td>\n",
       "      <td>0.778851</td>\n",
       "      <td>0.833879</td>\n",
       "    </tr>\n",
       "    <tr>\n",
       "      <th>support</th>\n",
       "      <td>2897.000000</td>\n",
       "      <td>1046.000000</td>\n",
       "      <td>0.840984</td>\n",
       "      <td>3943.000000</td>\n",
       "      <td>3943.000000</td>\n",
       "    </tr>\n",
       "  </tbody>\n",
       "</table>\n",
       "</div>"
      ],
      "text/plain": [
       "                     0            1  accuracy    macro avg  weighted avg\n",
       "precision     0.861926     0.759603  0.840984     0.810765      0.834782\n",
       "recall        0.933034     0.586042  0.840984     0.759538      0.840984\n",
       "f1-score      0.896072     0.661630  0.840984     0.778851      0.833879\n",
       "support    2897.000000  1046.000000  0.840984  3943.000000   3943.000000"
      ]
     },
     "execution_count": 35,
     "metadata": {},
     "output_type": "execute_result"
    }
   ],
   "source": [
    "cr = pd.DataFrame(classification_report(train.churned, y_pred3, output_dict=True))\n",
    "cr"
   ]
  },
  {
   "cell_type": "markdown",
   "metadata": {},
   "source": [
    "**Takeaways:**\n",
    "- Performs better on all metrics than previous two models\n",
    "- Lower interpretability, could be more difficult to replicate"
   ]
  },
  {
   "cell_type": "markdown",
   "metadata": {},
   "source": [
    "## Validate"
   ]
  },
  {
   "cell_type": "markdown",
   "metadata": {},
   "source": [
    "We will take our top two performing models (decision tree and random forest) and apply them to our validate data. This will help us determine which one we should use on the test data."
   ]
  },
  {
   "cell_type": "markdown",
   "metadata": {},
   "source": [
    "### Decision Tree Validation"
   ]
  },
  {
   "cell_type": "code",
   "execution_count": 36,
   "metadata": {},
   "outputs": [
    {
     "name": "stdout",
     "output_type": "stream",
     "text": [
      "Accuracy score: 77.47%\n"
     ]
    }
   ],
   "source": [
    "# Use the model to create predictions\n",
    "y_pred_validate1 = dt.predict(X_validate)\n",
    "\n",
    "# Probability of churning\n",
    "y_pred_prob_validate1 = dt.predict_proba(X_validate)\n",
    "\n",
    "print(f'Accuracy score: {dt.score(X_validate, y_validate):.2%}')"
   ]
  },
  {
   "cell_type": "code",
   "execution_count": 37,
   "metadata": {},
   "outputs": [
    {
     "data": {
      "text/html": [
       "<div>\n",
       "<style scoped>\n",
       "    .dataframe tbody tr th:only-of-type {\n",
       "        vertical-align: middle;\n",
       "    }\n",
       "\n",
       "    .dataframe tbody tr th {\n",
       "        vertical-align: top;\n",
       "    }\n",
       "\n",
       "    .dataframe thead th {\n",
       "        text-align: right;\n",
       "    }\n",
       "</style>\n",
       "<table border=\"1\" class=\"dataframe\">\n",
       "  <thead>\n",
       "    <tr style=\"text-align: right;\">\n",
       "      <th></th>\n",
       "      <th>0</th>\n",
       "      <th>1</th>\n",
       "      <th>accuracy</th>\n",
       "      <th>macro avg</th>\n",
       "      <th>weighted avg</th>\n",
       "    </tr>\n",
       "  </thead>\n",
       "  <tbody>\n",
       "    <tr>\n",
       "      <th>precision</th>\n",
       "      <td>0.824906</td>\n",
       "      <td>0.592896</td>\n",
       "      <td>0.77469</td>\n",
       "      <td>0.708901</td>\n",
       "      <td>0.763302</td>\n",
       "    </tr>\n",
       "    <tr>\n",
       "      <th>recall</th>\n",
       "      <td>0.880032</td>\n",
       "      <td>0.483296</td>\n",
       "      <td>0.77469</td>\n",
       "      <td>0.681664</td>\n",
       "      <td>0.774690</td>\n",
       "    </tr>\n",
       "    <tr>\n",
       "      <th>f1-score</th>\n",
       "      <td>0.851578</td>\n",
       "      <td>0.532515</td>\n",
       "      <td>0.77469</td>\n",
       "      <td>0.692047</td>\n",
       "      <td>0.766859</td>\n",
       "    </tr>\n",
       "    <tr>\n",
       "      <th>support</th>\n",
       "      <td>1242.000000</td>\n",
       "      <td>449.000000</td>\n",
       "      <td>0.77469</td>\n",
       "      <td>1691.000000</td>\n",
       "      <td>1691.000000</td>\n",
       "    </tr>\n",
       "  </tbody>\n",
       "</table>\n",
       "</div>"
      ],
      "text/plain": [
       "                     0           1  accuracy    macro avg  weighted avg\n",
       "precision     0.824906    0.592896   0.77469     0.708901      0.763302\n",
       "recall        0.880032    0.483296   0.77469     0.681664      0.774690\n",
       "f1-score      0.851578    0.532515   0.77469     0.692047      0.766859\n",
       "support    1242.000000  449.000000   0.77469  1691.000000   1691.000000"
      ]
     },
     "execution_count": 37,
     "metadata": {},
     "output_type": "execute_result"
    }
   ],
   "source": [
    "cr = pd.DataFrame(classification_report(validate.churned, y_pred_validate1, output_dict=True))\n",
    "cr"
   ]
  },
  {
   "cell_type": "markdown",
   "metadata": {},
   "source": [
    "### Random Forest Validation"
   ]
  },
  {
   "cell_type": "code",
   "execution_count": 38,
   "metadata": {},
   "outputs": [
    {
     "name": "stdout",
     "output_type": "stream",
     "text": [
      "Accuracy score: 79.18%\n"
     ]
    }
   ],
   "source": [
    "# Use the model to create predictions\n",
    "y_pred_validate2 = rf.predict(X_validate)\n",
    "\n",
    "# Probability of churning\n",
    "y_pred_prob_validate2 = rf.predict_proba(X_validate)\n",
    "\n",
    "print(f'Accuracy score: {rf.score(X_validate, y_validate):.2%}')"
   ]
  },
  {
   "cell_type": "code",
   "execution_count": 39,
   "metadata": {},
   "outputs": [
    {
     "data": {
      "text/html": [
       "<div>\n",
       "<style scoped>\n",
       "    .dataframe tbody tr th:only-of-type {\n",
       "        vertical-align: middle;\n",
       "    }\n",
       "\n",
       "    .dataframe tbody tr th {\n",
       "        vertical-align: top;\n",
       "    }\n",
       "\n",
       "    .dataframe thead th {\n",
       "        text-align: right;\n",
       "    }\n",
       "</style>\n",
       "<table border=\"1\" class=\"dataframe\">\n",
       "  <thead>\n",
       "    <tr style=\"text-align: right;\">\n",
       "      <th></th>\n",
       "      <th>0</th>\n",
       "      <th>1</th>\n",
       "      <th>accuracy</th>\n",
       "      <th>macro avg</th>\n",
       "      <th>weighted avg</th>\n",
       "    </tr>\n",
       "  </thead>\n",
       "  <tbody>\n",
       "    <tr>\n",
       "      <th>precision</th>\n",
       "      <td>0.831595</td>\n",
       "      <td>0.638968</td>\n",
       "      <td>0.791839</td>\n",
       "      <td>0.735282</td>\n",
       "      <td>0.780448</td>\n",
       "    </tr>\n",
       "    <tr>\n",
       "      <th>recall</th>\n",
       "      <td>0.898551</td>\n",
       "      <td>0.496659</td>\n",
       "      <td>0.791839</td>\n",
       "      <td>0.697605</td>\n",
       "      <td>0.791839</td>\n",
       "    </tr>\n",
       "    <tr>\n",
       "      <th>f1-score</th>\n",
       "      <td>0.863777</td>\n",
       "      <td>0.558897</td>\n",
       "      <td>0.791839</td>\n",
       "      <td>0.711337</td>\n",
       "      <td>0.782824</td>\n",
       "    </tr>\n",
       "    <tr>\n",
       "      <th>support</th>\n",
       "      <td>1242.000000</td>\n",
       "      <td>449.000000</td>\n",
       "      <td>0.791839</td>\n",
       "      <td>1691.000000</td>\n",
       "      <td>1691.000000</td>\n",
       "    </tr>\n",
       "  </tbody>\n",
       "</table>\n",
       "</div>"
      ],
      "text/plain": [
       "                     0           1  accuracy    macro avg  weighted avg\n",
       "precision     0.831595    0.638968  0.791839     0.735282      0.780448\n",
       "recall        0.898551    0.496659  0.791839     0.697605      0.791839\n",
       "f1-score      0.863777    0.558897  0.791839     0.711337      0.782824\n",
       "support    1242.000000  449.000000  0.791839  1691.000000   1691.000000"
      ]
     },
     "execution_count": 39,
     "metadata": {},
     "output_type": "execute_result"
    }
   ],
   "source": [
    "cr = pd.DataFrame(classification_report(validate.churned, y_pred_validate2, output_dict=True))\n",
    "cr"
   ]
  },
  {
   "cell_type": "markdown",
   "metadata": {},
   "source": [
    "**Takeaways:**\n",
    "- Performance between two models is much more similar in validate stage\n",
    "- Decision tree accuracy dropped about 3 percentage points, while random forest dropped about 5 percentage points"
   ]
  },
  {
   "cell_type": "markdown",
   "metadata": {},
   "source": [
    "## Test"
   ]
  },
  {
   "cell_type": "markdown",
   "metadata": {},
   "source": [
    "Our decision tree model has the lowest drop in accuracy between train and validate. It is also the easiest to explain. We'll run ONLY this model through the test data."
   ]
  },
  {
   "cell_type": "code",
   "execution_count": 40,
   "metadata": {},
   "outputs": [
    {
     "name": "stdout",
     "output_type": "stream",
     "text": [
      "Accuracy score: 78.92%\n"
     ]
    }
   ],
   "source": [
    "# Use the model to create predictions\n",
    "y_pred_test = dt.predict(X_test)\n",
    "\n",
    "# Probability of churning\n",
    "y_pred_prob_test = dt.predict_proba(X_test)\n",
    "\n",
    "print(f'Accuracy score: {dt.score(X_test, y_test):.2%}')"
   ]
  },
  {
   "cell_type": "code",
   "execution_count": 41,
   "metadata": {},
   "outputs": [
    {
     "data": {
      "text/html": [
       "<div>\n",
       "<style scoped>\n",
       "    .dataframe tbody tr th:only-of-type {\n",
       "        vertical-align: middle;\n",
       "    }\n",
       "\n",
       "    .dataframe tbody tr th {\n",
       "        vertical-align: top;\n",
       "    }\n",
       "\n",
       "    .dataframe thead th {\n",
       "        text-align: right;\n",
       "    }\n",
       "</style>\n",
       "<table border=\"1\" class=\"dataframe\">\n",
       "  <thead>\n",
       "    <tr style=\"text-align: right;\">\n",
       "      <th></th>\n",
       "      <th>0</th>\n",
       "      <th>1</th>\n",
       "      <th>accuracy</th>\n",
       "      <th>macro avg</th>\n",
       "      <th>weighted avg</th>\n",
       "    </tr>\n",
       "  </thead>\n",
       "  <tbody>\n",
       "    <tr>\n",
       "      <th>precision</th>\n",
       "      <td>0.830054</td>\n",
       "      <td>0.632302</td>\n",
       "      <td>0.789212</td>\n",
       "      <td>0.731178</td>\n",
       "      <td>0.777563</td>\n",
       "    </tr>\n",
       "    <tr>\n",
       "      <th>recall</th>\n",
       "      <td>0.896618</td>\n",
       "      <td>0.491979</td>\n",
       "      <td>0.789212</td>\n",
       "      <td>0.694298</td>\n",
       "      <td>0.789212</td>\n",
       "    </tr>\n",
       "    <tr>\n",
       "      <th>f1-score</th>\n",
       "      <td>0.862053</td>\n",
       "      <td>0.553383</td>\n",
       "      <td>0.789212</td>\n",
       "      <td>0.707718</td>\n",
       "      <td>0.780121</td>\n",
       "    </tr>\n",
       "    <tr>\n",
       "      <th>support</th>\n",
       "      <td>1035.000000</td>\n",
       "      <td>374.000000</td>\n",
       "      <td>0.789212</td>\n",
       "      <td>1409.000000</td>\n",
       "      <td>1409.000000</td>\n",
       "    </tr>\n",
       "  </tbody>\n",
       "</table>\n",
       "</div>"
      ],
      "text/plain": [
       "                     0           1  accuracy    macro avg  weighted avg\n",
       "precision     0.830054    0.632302  0.789212     0.731178      0.777563\n",
       "recall        0.896618    0.491979  0.789212     0.694298      0.789212\n",
       "f1-score      0.862053    0.553383  0.789212     0.707718      0.780121\n",
       "support    1035.000000  374.000000  0.789212  1409.000000   1409.000000"
      ]
     },
     "execution_count": 41,
     "metadata": {},
     "output_type": "execute_result"
    }
   ],
   "source": [
    "cr = pd.DataFrame(classification_report(test.churned, y_pred_test, output_dict=True))\n",
    "cr"
   ]
  },
  {
   "cell_type": "markdown",
   "metadata": {},
   "source": [
    "We can see how our model did by looking at the confusion matrix."
   ]
  },
  {
   "cell_type": "code",
   "execution_count": 42,
   "metadata": {},
   "outputs": [
    {
     "data": {
      "text/html": [
       "<div>\n",
       "<style scoped>\n",
       "    .dataframe tbody tr th:only-of-type {\n",
       "        vertical-align: middle;\n",
       "    }\n",
       "\n",
       "    .dataframe tbody tr th {\n",
       "        vertical-align: top;\n",
       "    }\n",
       "\n",
       "    .dataframe thead th {\n",
       "        text-align: right;\n",
       "    }\n",
       "</style>\n",
       "<table border=\"1\" class=\"dataframe\">\n",
       "  <thead>\n",
       "    <tr style=\"text-align: right;\">\n",
       "      <th>col_0</th>\n",
       "      <th>0</th>\n",
       "      <th>1</th>\n",
       "      <th>All</th>\n",
       "    </tr>\n",
       "    <tr>\n",
       "      <th>churned</th>\n",
       "      <th></th>\n",
       "      <th></th>\n",
       "      <th></th>\n",
       "    </tr>\n",
       "  </thead>\n",
       "  <tbody>\n",
       "    <tr>\n",
       "      <th>0</th>\n",
       "      <td>0.658623</td>\n",
       "      <td>0.075940</td>\n",
       "      <td>0.734564</td>\n",
       "    </tr>\n",
       "    <tr>\n",
       "      <th>1</th>\n",
       "      <td>0.134847</td>\n",
       "      <td>0.130589</td>\n",
       "      <td>0.265436</td>\n",
       "    </tr>\n",
       "    <tr>\n",
       "      <th>All</th>\n",
       "      <td>0.793471</td>\n",
       "      <td>0.206529</td>\n",
       "      <td>1.000000</td>\n",
       "    </tr>\n",
       "  </tbody>\n",
       "</table>\n",
       "</div>"
      ],
      "text/plain": [
       "col_0           0         1       All\n",
       "churned                              \n",
       "0        0.658623  0.075940  0.734564\n",
       "1        0.134847  0.130589  0.265436\n",
       "All      0.793471  0.206529  1.000000"
      ]
     },
     "execution_count": 42,
     "metadata": {},
     "output_type": "execute_result"
    }
   ],
   "source": [
    "pd.crosstab(test.churned, y_pred_test, margins=True, normalize=True)"
   ]
  },
  {
   "cell_type": "markdown",
   "metadata": {},
   "source": [
    "## **Step 6: Predicting Churn**"
   ]
  },
  {
   "cell_type": "code",
   "execution_count": 43,
   "metadata": {},
   "outputs": [],
   "source": [
    "reset_test = test.reset_index()"
   ]
  },
  {
   "cell_type": "code",
   "execution_count": 44,
   "metadata": {},
   "outputs": [],
   "source": [
    "test_proba_df = pd.DataFrame(y_pred_prob_test, columns=['no_churn', 'churn_prob'])"
   ]
  },
  {
   "cell_type": "code",
   "execution_count": 45,
   "metadata": {},
   "outputs": [
    {
     "data": {
      "text/html": [
       "<div>\n",
       "<style scoped>\n",
       "    .dataframe tbody tr th:only-of-type {\n",
       "        vertical-align: middle;\n",
       "    }\n",
       "\n",
       "    .dataframe tbody tr th {\n",
       "        vertical-align: top;\n",
       "    }\n",
       "\n",
       "    .dataframe thead th {\n",
       "        text-align: right;\n",
       "    }\n",
       "</style>\n",
       "<table border=\"1\" class=\"dataframe\">\n",
       "  <thead>\n",
       "    <tr style=\"text-align: right;\">\n",
       "      <th></th>\n",
       "      <th>no_churn</th>\n",
       "      <th>churn_prob</th>\n",
       "    </tr>\n",
       "  </thead>\n",
       "  <tbody>\n",
       "    <tr>\n",
       "      <th>0</th>\n",
       "      <td>0.900000</td>\n",
       "      <td>0.100000</td>\n",
       "    </tr>\n",
       "    <tr>\n",
       "      <th>1</th>\n",
       "      <td>0.933333</td>\n",
       "      <td>0.066667</td>\n",
       "    </tr>\n",
       "    <tr>\n",
       "      <th>2</th>\n",
       "      <td>0.940789</td>\n",
       "      <td>0.059211</td>\n",
       "    </tr>\n",
       "    <tr>\n",
       "      <th>3</th>\n",
       "      <td>0.692308</td>\n",
       "      <td>0.307692</td>\n",
       "    </tr>\n",
       "    <tr>\n",
       "      <th>4</th>\n",
       "      <td>0.702439</td>\n",
       "      <td>0.297561</td>\n",
       "    </tr>\n",
       "    <tr>\n",
       "      <th>...</th>\n",
       "      <td>...</td>\n",
       "      <td>...</td>\n",
       "    </tr>\n",
       "    <tr>\n",
       "      <th>1404</th>\n",
       "      <td>0.350000</td>\n",
       "      <td>0.650000</td>\n",
       "    </tr>\n",
       "    <tr>\n",
       "      <th>1405</th>\n",
       "      <td>0.824000</td>\n",
       "      <td>0.176000</td>\n",
       "    </tr>\n",
       "    <tr>\n",
       "      <th>1406</th>\n",
       "      <td>0.917808</td>\n",
       "      <td>0.082192</td>\n",
       "    </tr>\n",
       "    <tr>\n",
       "      <th>1407</th>\n",
       "      <td>0.350000</td>\n",
       "      <td>0.650000</td>\n",
       "    </tr>\n",
       "    <tr>\n",
       "      <th>1408</th>\n",
       "      <td>0.702439</td>\n",
       "      <td>0.297561</td>\n",
       "    </tr>\n",
       "  </tbody>\n",
       "</table>\n",
       "<p>1409 rows × 2 columns</p>\n",
       "</div>"
      ],
      "text/plain": [
       "      no_churn  churn_prob\n",
       "0     0.900000    0.100000\n",
       "1     0.933333    0.066667\n",
       "2     0.940789    0.059211\n",
       "3     0.692308    0.307692\n",
       "4     0.702439    0.297561\n",
       "...        ...         ...\n",
       "1404  0.350000    0.650000\n",
       "1405  0.824000    0.176000\n",
       "1406  0.917808    0.082192\n",
       "1407  0.350000    0.650000\n",
       "1408  0.702439    0.297561\n",
       "\n",
       "[1409 rows x 2 columns]"
      ]
     },
     "execution_count": 45,
     "metadata": {},
     "output_type": "execute_result"
    }
   ],
   "source": [
    "test_proba_df"
   ]
  },
  {
   "cell_type": "code",
   "execution_count": 46,
   "metadata": {},
   "outputs": [],
   "source": [
    "test_proba_df = pd.concat([reset_test, test_proba_df['churn_prob']], axis=1)"
   ]
  },
  {
   "cell_type": "code",
   "execution_count": 47,
   "metadata": {},
   "outputs": [],
   "source": [
    "test_proba_df['predicted'] = y_pred_test"
   ]
  },
  {
   "cell_type": "code",
   "execution_count": 48,
   "metadata": {},
   "outputs": [
    {
     "data": {
      "text/html": [
       "<div>\n",
       "<style scoped>\n",
       "    .dataframe tbody tr th:only-of-type {\n",
       "        vertical-align: middle;\n",
       "    }\n",
       "\n",
       "    .dataframe tbody tr th {\n",
       "        vertical-align: top;\n",
       "    }\n",
       "\n",
       "    .dataframe thead th {\n",
       "        text-align: right;\n",
       "    }\n",
       "</style>\n",
       "<table border=\"1\" class=\"dataframe\">\n",
       "  <thead>\n",
       "    <tr style=\"text-align: right;\">\n",
       "      <th></th>\n",
       "      <th>index</th>\n",
       "      <th>customer_id</th>\n",
       "      <th>gender</th>\n",
       "      <th>senior_citizen</th>\n",
       "      <th>partner</th>\n",
       "      <th>dependents</th>\n",
       "      <th>tenure</th>\n",
       "      <th>phone_service</th>\n",
       "      <th>multiple_lines</th>\n",
       "      <th>internet_service_type_id</th>\n",
       "      <th>...</th>\n",
       "      <th>one_year</th>\n",
       "      <th>two_year</th>\n",
       "      <th>dsl_internet</th>\n",
       "      <th>fiber_internet</th>\n",
       "      <th>no_internet</th>\n",
       "      <th>is_female</th>\n",
       "      <th>is_automatic</th>\n",
       "      <th>churned</th>\n",
       "      <th>churn_prob</th>\n",
       "      <th>predicted</th>\n",
       "    </tr>\n",
       "  </thead>\n",
       "  <tbody>\n",
       "    <tr>\n",
       "      <th>0</th>\n",
       "      <td>3960</td>\n",
       "      <td>2592-HODOV</td>\n",
       "      <td>Male</td>\n",
       "      <td>0</td>\n",
       "      <td>0</td>\n",
       "      <td>0</td>\n",
       "      <td>13</td>\n",
       "      <td>1</td>\n",
       "      <td>0</td>\n",
       "      <td>3</td>\n",
       "      <td>...</td>\n",
       "      <td>1</td>\n",
       "      <td>0</td>\n",
       "      <td>0</td>\n",
       "      <td>0</td>\n",
       "      <td>1</td>\n",
       "      <td>0</td>\n",
       "      <td>1</td>\n",
       "      <td>0</td>\n",
       "      <td>0.100000</td>\n",
       "      <td>0</td>\n",
       "    </tr>\n",
       "    <tr>\n",
       "      <th>1</th>\n",
       "      <td>2131</td>\n",
       "      <td>7426-GSWPO</td>\n",
       "      <td>Male</td>\n",
       "      <td>1</td>\n",
       "      <td>0</td>\n",
       "      <td>0</td>\n",
       "      <td>64</td>\n",
       "      <td>1</td>\n",
       "      <td>1</td>\n",
       "      <td>2</td>\n",
       "      <td>...</td>\n",
       "      <td>0</td>\n",
       "      <td>0</td>\n",
       "      <td>0</td>\n",
       "      <td>1</td>\n",
       "      <td>0</td>\n",
       "      <td>0</td>\n",
       "      <td>1</td>\n",
       "      <td>0</td>\n",
       "      <td>0.066667</td>\n",
       "      <td>0</td>\n",
       "    </tr>\n",
       "    <tr>\n",
       "      <th>2</th>\n",
       "      <td>5313</td>\n",
       "      <td>9378-FXTIZ</td>\n",
       "      <td>Female</td>\n",
       "      <td>0</td>\n",
       "      <td>1</td>\n",
       "      <td>0</td>\n",
       "      <td>54</td>\n",
       "      <td>1</td>\n",
       "      <td>1</td>\n",
       "      <td>1</td>\n",
       "      <td>...</td>\n",
       "      <td>1</td>\n",
       "      <td>0</td>\n",
       "      <td>1</td>\n",
       "      <td>0</td>\n",
       "      <td>0</td>\n",
       "      <td>1</td>\n",
       "      <td>1</td>\n",
       "      <td>1</td>\n",
       "      <td>0.059211</td>\n",
       "      <td>0</td>\n",
       "    </tr>\n",
       "    <tr>\n",
       "      <th>3</th>\n",
       "      <td>4295</td>\n",
       "      <td>1017-FBQMM</td>\n",
       "      <td>Female</td>\n",
       "      <td>0</td>\n",
       "      <td>1</td>\n",
       "      <td>1</td>\n",
       "      <td>62</td>\n",
       "      <td>1</td>\n",
       "      <td>1</td>\n",
       "      <td>2</td>\n",
       "      <td>...</td>\n",
       "      <td>1</td>\n",
       "      <td>0</td>\n",
       "      <td>0</td>\n",
       "      <td>1</td>\n",
       "      <td>0</td>\n",
       "      <td>1</td>\n",
       "      <td>1</td>\n",
       "      <td>0</td>\n",
       "      <td>0.307692</td>\n",
       "      <td>0</td>\n",
       "    </tr>\n",
       "    <tr>\n",
       "      <th>4</th>\n",
       "      <td>772</td>\n",
       "      <td>1193-RTSLK</td>\n",
       "      <td>Female</td>\n",
       "      <td>0</td>\n",
       "      <td>0</td>\n",
       "      <td>0</td>\n",
       "      <td>38</td>\n",
       "      <td>1</td>\n",
       "      <td>0</td>\n",
       "      <td>2</td>\n",
       "      <td>...</td>\n",
       "      <td>0</td>\n",
       "      <td>0</td>\n",
       "      <td>0</td>\n",
       "      <td>1</td>\n",
       "      <td>0</td>\n",
       "      <td>1</td>\n",
       "      <td>1</td>\n",
       "      <td>1</td>\n",
       "      <td>0.297561</td>\n",
       "      <td>0</td>\n",
       "    </tr>\n",
       "    <tr>\n",
       "      <th>...</th>\n",
       "      <td>...</td>\n",
       "      <td>...</td>\n",
       "      <td>...</td>\n",
       "      <td>...</td>\n",
       "      <td>...</td>\n",
       "      <td>...</td>\n",
       "      <td>...</td>\n",
       "      <td>...</td>\n",
       "      <td>...</td>\n",
       "      <td>...</td>\n",
       "      <td>...</td>\n",
       "      <td>...</td>\n",
       "      <td>...</td>\n",
       "      <td>...</td>\n",
       "      <td>...</td>\n",
       "      <td>...</td>\n",
       "      <td>...</td>\n",
       "      <td>...</td>\n",
       "      <td>...</td>\n",
       "      <td>...</td>\n",
       "      <td>...</td>\n",
       "    </tr>\n",
       "    <tr>\n",
       "      <th>1404</th>\n",
       "      <td>879</td>\n",
       "      <td>1731-TVIUK</td>\n",
       "      <td>Female</td>\n",
       "      <td>0</td>\n",
       "      <td>0</td>\n",
       "      <td>0</td>\n",
       "      <td>4</td>\n",
       "      <td>1</td>\n",
       "      <td>1</td>\n",
       "      <td>2</td>\n",
       "      <td>...</td>\n",
       "      <td>0</td>\n",
       "      <td>0</td>\n",
       "      <td>0</td>\n",
       "      <td>1</td>\n",
       "      <td>0</td>\n",
       "      <td>1</td>\n",
       "      <td>0</td>\n",
       "      <td>1</td>\n",
       "      <td>0.650000</td>\n",
       "      <td>1</td>\n",
       "    </tr>\n",
       "    <tr>\n",
       "      <th>1405</th>\n",
       "      <td>4486</td>\n",
       "      <td>4628-WQCQQ</td>\n",
       "      <td>Male</td>\n",
       "      <td>0</td>\n",
       "      <td>0</td>\n",
       "      <td>1</td>\n",
       "      <td>35</td>\n",
       "      <td>1</td>\n",
       "      <td>0</td>\n",
       "      <td>2</td>\n",
       "      <td>...</td>\n",
       "      <td>1</td>\n",
       "      <td>0</td>\n",
       "      <td>0</td>\n",
       "      <td>1</td>\n",
       "      <td>0</td>\n",
       "      <td>0</td>\n",
       "      <td>0</td>\n",
       "      <td>1</td>\n",
       "      <td>0.176000</td>\n",
       "      <td>0</td>\n",
       "    </tr>\n",
       "    <tr>\n",
       "      <th>1406</th>\n",
       "      <td>6227</td>\n",
       "      <td>5887-IKKYO</td>\n",
       "      <td>Male</td>\n",
       "      <td>0</td>\n",
       "      <td>1</td>\n",
       "      <td>1</td>\n",
       "      <td>58</td>\n",
       "      <td>1</td>\n",
       "      <td>1</td>\n",
       "      <td>2</td>\n",
       "      <td>...</td>\n",
       "      <td>0</td>\n",
       "      <td>1</td>\n",
       "      <td>0</td>\n",
       "      <td>1</td>\n",
       "      <td>0</td>\n",
       "      <td>0</td>\n",
       "      <td>1</td>\n",
       "      <td>0</td>\n",
       "      <td>0.082192</td>\n",
       "      <td>0</td>\n",
       "    </tr>\n",
       "    <tr>\n",
       "      <th>1407</th>\n",
       "      <td>3258</td>\n",
       "      <td>4931-TRZWN</td>\n",
       "      <td>Female</td>\n",
       "      <td>0</td>\n",
       "      <td>0</td>\n",
       "      <td>0</td>\n",
       "      <td>13</td>\n",
       "      <td>1</td>\n",
       "      <td>0</td>\n",
       "      <td>1</td>\n",
       "      <td>...</td>\n",
       "      <td>0</td>\n",
       "      <td>0</td>\n",
       "      <td>1</td>\n",
       "      <td>0</td>\n",
       "      <td>0</td>\n",
       "      <td>1</td>\n",
       "      <td>0</td>\n",
       "      <td>0</td>\n",
       "      <td>0.650000</td>\n",
       "      <td>1</td>\n",
       "    </tr>\n",
       "    <tr>\n",
       "      <th>1408</th>\n",
       "      <td>815</td>\n",
       "      <td>1396-QWFBJ</td>\n",
       "      <td>Female</td>\n",
       "      <td>0</td>\n",
       "      <td>1</td>\n",
       "      <td>1</td>\n",
       "      <td>21</td>\n",
       "      <td>1</td>\n",
       "      <td>0</td>\n",
       "      <td>2</td>\n",
       "      <td>...</td>\n",
       "      <td>0</td>\n",
       "      <td>0</td>\n",
       "      <td>0</td>\n",
       "      <td>1</td>\n",
       "      <td>0</td>\n",
       "      <td>1</td>\n",
       "      <td>1</td>\n",
       "      <td>1</td>\n",
       "      <td>0.297561</td>\n",
       "      <td>0</td>\n",
       "    </tr>\n",
       "  </tbody>\n",
       "</table>\n",
       "<p>1409 rows × 36 columns</p>\n",
       "</div>"
      ],
      "text/plain": [
       "      index customer_id  gender  senior_citizen  partner  dependents  tenure  \\\n",
       "0      3960  2592-HODOV    Male               0        0           0      13   \n",
       "1      2131  7426-GSWPO    Male               1        0           0      64   \n",
       "2      5313  9378-FXTIZ  Female               0        1           0      54   \n",
       "3      4295  1017-FBQMM  Female               0        1           1      62   \n",
       "4       772  1193-RTSLK  Female               0        0           0      38   \n",
       "...     ...         ...     ...             ...      ...         ...     ...   \n",
       "1404    879  1731-TVIUK  Female               0        0           0       4   \n",
       "1405   4486  4628-WQCQQ    Male               0        0           1      35   \n",
       "1406   6227  5887-IKKYO    Male               0        1           1      58   \n",
       "1407   3258  4931-TRZWN  Female               0        0           0      13   \n",
       "1408    815  1396-QWFBJ  Female               0        1           1      21   \n",
       "\n",
       "      phone_service  multiple_lines  internet_service_type_id  ...  one_year  \\\n",
       "0                 1               0                         3  ...         1   \n",
       "1                 1               1                         2  ...         0   \n",
       "2                 1               1                         1  ...         1   \n",
       "3                 1               1                         2  ...         1   \n",
       "4                 1               0                         2  ...         0   \n",
       "...             ...             ...                       ...  ...       ...   \n",
       "1404              1               1                         2  ...         0   \n",
       "1405              1               0                         2  ...         1   \n",
       "1406              1               1                         2  ...         0   \n",
       "1407              1               0                         1  ...         0   \n",
       "1408              1               0                         2  ...         0   \n",
       "\n",
       "      two_year  dsl_internet  fiber_internet  no_internet  is_female  \\\n",
       "0            0             0               0            1          0   \n",
       "1            0             0               1            0          0   \n",
       "2            0             1               0            0          1   \n",
       "3            0             0               1            0          1   \n",
       "4            0             0               1            0          1   \n",
       "...        ...           ...             ...          ...        ...   \n",
       "1404         0             0               1            0          1   \n",
       "1405         0             0               1            0          0   \n",
       "1406         1             0               1            0          0   \n",
       "1407         0             1               0            0          1   \n",
       "1408         0             0               1            0          1   \n",
       "\n",
       "      is_automatic  churned  churn_prob  predicted  \n",
       "0                1        0    0.100000          0  \n",
       "1                1        0    0.066667          0  \n",
       "2                1        1    0.059211          0  \n",
       "3                1        0    0.307692          0  \n",
       "4                1        1    0.297561          0  \n",
       "...            ...      ...         ...        ...  \n",
       "1404             0        1    0.650000          1  \n",
       "1405             0        1    0.176000          0  \n",
       "1406             1        0    0.082192          0  \n",
       "1407             0        0    0.650000          1  \n",
       "1408             1        1    0.297561          0  \n",
       "\n",
       "[1409 rows x 36 columns]"
      ]
     },
     "execution_count": 48,
     "metadata": {},
     "output_type": "execute_result"
    }
   ],
   "source": [
    "test_proba_df"
   ]
  },
  {
   "cell_type": "code",
   "execution_count": 49,
   "metadata": {},
   "outputs": [],
   "source": [
    "csv = test_proba_df[['customer_id', 'predicted', 'churn_prob']]"
   ]
  },
  {
   "cell_type": "code",
   "execution_count": 50,
   "metadata": {},
   "outputs": [
    {
     "data": {
      "text/html": [
       "<div>\n",
       "<style scoped>\n",
       "    .dataframe tbody tr th:only-of-type {\n",
       "        vertical-align: middle;\n",
       "    }\n",
       "\n",
       "    .dataframe tbody tr th {\n",
       "        vertical-align: top;\n",
       "    }\n",
       "\n",
       "    .dataframe thead th {\n",
       "        text-align: right;\n",
       "    }\n",
       "</style>\n",
       "<table border=\"1\" class=\"dataframe\">\n",
       "  <thead>\n",
       "    <tr style=\"text-align: right;\">\n",
       "      <th></th>\n",
       "      <th>customer_id</th>\n",
       "      <th>predicted</th>\n",
       "      <th>churn_prob</th>\n",
       "    </tr>\n",
       "  </thead>\n",
       "  <tbody>\n",
       "    <tr>\n",
       "      <th>0</th>\n",
       "      <td>2592-HODOV</td>\n",
       "      <td>0</td>\n",
       "      <td>0.100000</td>\n",
       "    </tr>\n",
       "    <tr>\n",
       "      <th>1</th>\n",
       "      <td>7426-GSWPO</td>\n",
       "      <td>0</td>\n",
       "      <td>0.066667</td>\n",
       "    </tr>\n",
       "    <tr>\n",
       "      <th>2</th>\n",
       "      <td>9378-FXTIZ</td>\n",
       "      <td>0</td>\n",
       "      <td>0.059211</td>\n",
       "    </tr>\n",
       "    <tr>\n",
       "      <th>3</th>\n",
       "      <td>1017-FBQMM</td>\n",
       "      <td>0</td>\n",
       "      <td>0.307692</td>\n",
       "    </tr>\n",
       "    <tr>\n",
       "      <th>4</th>\n",
       "      <td>1193-RTSLK</td>\n",
       "      <td>0</td>\n",
       "      <td>0.297561</td>\n",
       "    </tr>\n",
       "    <tr>\n",
       "      <th>...</th>\n",
       "      <td>...</td>\n",
       "      <td>...</td>\n",
       "      <td>...</td>\n",
       "    </tr>\n",
       "    <tr>\n",
       "      <th>1404</th>\n",
       "      <td>1731-TVIUK</td>\n",
       "      <td>1</td>\n",
       "      <td>0.650000</td>\n",
       "    </tr>\n",
       "    <tr>\n",
       "      <th>1405</th>\n",
       "      <td>4628-WQCQQ</td>\n",
       "      <td>0</td>\n",
       "      <td>0.176000</td>\n",
       "    </tr>\n",
       "    <tr>\n",
       "      <th>1406</th>\n",
       "      <td>5887-IKKYO</td>\n",
       "      <td>0</td>\n",
       "      <td>0.082192</td>\n",
       "    </tr>\n",
       "    <tr>\n",
       "      <th>1407</th>\n",
       "      <td>4931-TRZWN</td>\n",
       "      <td>1</td>\n",
       "      <td>0.650000</td>\n",
       "    </tr>\n",
       "    <tr>\n",
       "      <th>1408</th>\n",
       "      <td>1396-QWFBJ</td>\n",
       "      <td>0</td>\n",
       "      <td>0.297561</td>\n",
       "    </tr>\n",
       "  </tbody>\n",
       "</table>\n",
       "<p>1409 rows × 3 columns</p>\n",
       "</div>"
      ],
      "text/plain": [
       "     customer_id  predicted  churn_prob\n",
       "0     2592-HODOV          0    0.100000\n",
       "1     7426-GSWPO          0    0.066667\n",
       "2     9378-FXTIZ          0    0.059211\n",
       "3     1017-FBQMM          0    0.307692\n",
       "4     1193-RTSLK          0    0.297561\n",
       "...          ...        ...         ...\n",
       "1404  1731-TVIUK          1    0.650000\n",
       "1405  4628-WQCQQ          0    0.176000\n",
       "1406  5887-IKKYO          0    0.082192\n",
       "1407  4931-TRZWN          1    0.650000\n",
       "1408  1396-QWFBJ          0    0.297561\n",
       "\n",
       "[1409 rows x 3 columns]"
      ]
     },
     "execution_count": 50,
     "metadata": {},
     "output_type": "execute_result"
    }
   ],
   "source": [
    "csv"
   ]
  },
  {
   "cell_type": "code",
   "execution_count": 51,
   "metadata": {},
   "outputs": [],
   "source": [
    "# Write DataFrame to a csv for deliverable.\n",
    "\n",
    "csv.to_csv('predictions.csv')"
   ]
  },
  {
   "cell_type": "code",
   "execution_count": 52,
   "metadata": {},
   "outputs": [
    {
     "data": {
      "text/plain": [
       "0    1118\n",
       "1     291\n",
       "Name: predicted, dtype: int64"
      ]
     },
     "execution_count": 52,
     "metadata": {},
     "output_type": "execute_result"
    }
   ],
   "source": [
    "csv.predicted.value_counts()"
   ]
  },
  {
   "cell_type": "markdown",
   "metadata": {},
   "source": [
    "**There would be 291 customers who churn out of the test dataset.**"
   ]
  },
  {
   "cell_type": "markdown",
   "metadata": {},
   "source": [
    "## **Conclusions**"
   ]
  },
  {
   "cell_type": "markdown",
   "metadata": {},
   "source": [
    "- Our baseline model was set at 73%\n",
    "- Our decision tree model was ran through train, validate, and test datasets, consistently performing better than the baseline\n",
    "- Our model predicted 291 customers would churn out of the test dataset\n",
    "- Whether or not someone has an automatic payment type and the contract type were good predictors of churn\n",
    "- **Recommendation:** Offer discounts to those who sign up for an automatic payment type or a 1-2 year contract\n",
    "\n",
    "**Next steps:**\n",
    "- Test out the model on out of sample data to see how well it performs in the wild"
   ]
  },
  {
   "cell_type": "code",
   "execution_count": null,
   "metadata": {},
   "outputs": [],
   "source": []
  }
 ],
 "metadata": {
  "kernelspec": {
   "display_name": "Python 3",
   "language": "python",
   "name": "python3"
  },
  "language_info": {
   "codemirror_mode": {
    "name": "ipython",
    "version": 3
   },
   "file_extension": ".py",
   "mimetype": "text/x-python",
   "name": "python",
   "nbconvert_exporter": "python",
   "pygments_lexer": "ipython3",
   "version": "3.8.5"
  }
 },
 "nbformat": 4,
 "nbformat_minor": 4
}
